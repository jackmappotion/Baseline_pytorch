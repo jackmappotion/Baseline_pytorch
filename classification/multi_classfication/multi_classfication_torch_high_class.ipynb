{
 "cells": [
  {
   "cell_type": "code",
   "execution_count": 29,
   "metadata": {},
   "outputs": [],
   "source": [
    "import numpy as np\n",
    "import pandas as pd\n",
    "\n",
    "from sklearn.model_selection import train_test_split\n",
    "from sklearn.preprocessing import StandardScaler\n",
    "\n",
    "import torch\n",
    "import torch.nn as nn\n",
    "import torch.nn.functional as F\n",
    "import torch.optim as optim\n",
    "\n",
    "import matplotlib.pyplot as plt"
   ]
  },
  {
   "cell_type": "code",
   "execution_count": 30,
   "metadata": {},
   "outputs": [],
   "source": [
    "df = pd.read_csv(\"../../data/multi_classification.csv\")\n",
    "\n",
    "x = df.iloc[:, :-1]\n",
    "y = pd.get_dummies(df.iloc[:, -1]).astype(int)\n",
    "\n",
    "x_ssc = StandardScaler()\n",
    "x_scaled = x_ssc.fit_transform(x)\n",
    "\n",
    "x_tensor = torch.tensor(x_scaled, dtype=torch.float32)\n",
    "y_tensor = torch.tensor(y.values, dtype=torch.float32)\n",
    "\n",
    "x_train, x_test, y_train, y_test = train_test_split(x_tensor, y_tensor, test_size=0.2, shuffle=True)"
   ]
  },
  {
   "cell_type": "code",
   "execution_count": 31,
   "metadata": {},
   "outputs": [],
   "source": [
    "x_shape = x_train.shape[-1]\n",
    "y_shape = y_train.shape[-1]"
   ]
  },
  {
   "cell_type": "code",
   "execution_count": 32,
   "metadata": {},
   "outputs": [
    {
     "name": "stdout",
     "output_type": "stream",
     "text": [
      "x_train.shape :  torch.Size([120, 4])\n",
      "y_train.shape :  torch.Size([120, 3])\n"
     ]
    }
   ],
   "source": [
    "print(\"x_train.shape : \",x_train.shape)\n",
    "print(\"y_train.shape : \",y_train.shape)"
   ]
  },
  {
   "cell_type": "code",
   "execution_count": 33,
   "metadata": {},
   "outputs": [],
   "source": [
    "class Model(nn.Module):\n",
    "    def __init__(self,input_size,output_size) -> None:\n",
    "        super().__init__()\n",
    "        self.linear = nn.Linear(input_size,output_size)\n",
    "    def forward(self,x):\n",
    "        return self.linear(x)"
   ]
  },
  {
   "cell_type": "code",
   "execution_count": 34,
   "metadata": {},
   "outputs": [],
   "source": [
    "model = Model(input_size=4,output_size=3)"
   ]
  },
  {
   "cell_type": "code",
   "execution_count": 36,
   "metadata": {},
   "outputs": [
    {
     "name": "stdout",
     "output_type": "stream",
     "text": [
      "0/2000\n",
      "loss: 0.9970922470092773\n",
      "100/2000\n",
      "loss: 0.30793100595474243\n",
      "200/2000\n",
      "loss: 0.24672578275203705\n",
      "300/2000\n",
      "loss: 0.20965561270713806\n",
      "400/2000\n",
      "loss: 0.18409591913223267\n",
      "500/2000\n",
      "loss: 0.1654077023267746\n",
      "600/2000\n",
      "loss: 0.15117555856704712\n",
      "700/2000\n",
      "loss: 0.13998861610889435\n",
      "800/2000\n",
      "loss: 0.13096831738948822\n",
      "900/2000\n",
      "loss: 0.12354104965925217\n",
      "1000/2000\n",
      "loss: 0.11731769889593124\n",
      "1100/2000\n",
      "loss: 0.11202550679445267\n",
      "1200/2000\n",
      "loss: 0.10746802389621735\n",
      "1300/2000\n",
      "loss: 0.10350025445222855\n",
      "1400/2000\n",
      "loss: 0.10001303255558014\n",
      "1500/2000\n",
      "loss: 0.09692254662513733\n",
      "1600/2000\n",
      "loss: 0.0941634401679039\n",
      "1700/2000\n",
      "loss: 0.0916840136051178\n",
      "1800/2000\n",
      "loss: 0.08944288641214371\n",
      "1900/2000\n",
      "loss: 0.0874064490199089\n",
      "2000/2000\n",
      "loss: 0.08554717898368835\n"
     ]
    }
   ],
   "source": [
    "epochs = 2000\n",
    "learning_rate = 0.1\n",
    "optimizer = optim.SGD(model.parameters(), lr=learning_rate)\n",
    "\n",
    "for i in range(epochs + 1):\n",
    "    h_x = model(x_train)\n",
    "    loss = F.cross_entropy(h_x, y_train)\n",
    "    \n",
    "    optimizer.zero_grad()\n",
    "    loss.backward()\n",
    "    optimizer.step()\n",
    "\n",
    "    if i % 100 == 0:\n",
    "        print(f\"{i}/{epochs}\")\n",
    "        print(f\"loss: {loss}\")"
   ]
  },
  {
   "cell_type": "code",
   "execution_count": null,
   "metadata": {},
   "outputs": [],
   "source": []
  }
 ],
 "metadata": {
  "kernelspec": {
   "display_name": "torch",
   "language": "python",
   "name": "python3"
  },
  "language_info": {
   "codemirror_mode": {
    "name": "ipython",
    "version": 3
   },
   "file_extension": ".py",
   "mimetype": "text/x-python",
   "name": "python",
   "nbconvert_exporter": "python",
   "pygments_lexer": "ipython3",
   "version": "3.10.11"
  },
  "orig_nbformat": 4
 },
 "nbformat": 4,
 "nbformat_minor": 2
}
