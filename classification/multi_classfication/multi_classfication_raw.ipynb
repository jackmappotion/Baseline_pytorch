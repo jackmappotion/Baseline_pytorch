{
 "cells": [
  {
   "cell_type": "code",
   "execution_count": 1,
   "metadata": {},
   "outputs": [],
   "source": [
    "import numpy as np\n",
    "import pandas as pd\n",
    "\n",
    "from sklearn.model_selection import train_test_split\n",
    "from sklearn.preprocessing import StandardScaler\n",
    "\n",
    "import numpy as np\n",
    "import matplotlib.pyplot as plt"
   ]
  },
  {
   "cell_type": "code",
   "execution_count": 2,
   "metadata": {},
   "outputs": [],
   "source": [
    "df = pd.read_csv(\"../../data/multi_classification.csv\")\n",
    "\n",
    "x = df.iloc[:, :-1]\n",
    "y = pd.get_dummies(df.iloc[:, -1]).astype(int)\n",
    "\n",
    "x_ssc = StandardScaler()\n",
    "x_scaled = x_ssc.fit_transform(x)\n",
    "\n",
    "x_train, x_test, y_train, y_test = train_test_split(x_scaled, y.values, test_size=0.2, shuffle=True)"
   ]
  },
  {
   "cell_type": "code",
   "execution_count": 3,
   "metadata": {},
   "outputs": [],
   "source": [
    "def softmax_function(h_x):\n",
    "    exp_values = np.exp(h_x - np.max(h_x, axis=1, keepdims=True))\n",
    "    y_pred = exp_values / np.sum(exp_values, axis=1, keepdims=True)\n",
    "    return y_pred\n",
    "\n",
    "\n",
    "def multi_classification_loss_function(y_real, y_pred):\n",
    "    loss = -np.mean(np.sum(y_real * np.log(y_pred), axis=1))\n",
    "    return loss\n",
    "\n",
    "\n",
    "def get_derivative_of_cost_w(y_real, y_pred, x_real):\n",
    "    derivative_of_cost_w = -2 * np.dot(x_real.T, (y_real - y_pred))\n",
    "    return derivative_of_cost_w\n",
    "\n",
    "\n",
    "def get_derivative_of_cost_b(y_real, y_pred):\n",
    "    derivative_of_cost_b = -2 * (y_real - y_pred).sum(axis=0)\n",
    "    return derivative_of_cost_b"
   ]
  },
  {
   "cell_type": "code",
   "execution_count": 4,
   "metadata": {},
   "outputs": [],
   "source": [
    "x_shape = x.shape[-1]\n",
    "y_shape = y.shape[-1]\n",
    "\n",
    "w = np.zeros((x_shape, y_shape))\n",
    "b = np.array([0])"
   ]
  },
  {
   "cell_type": "code",
   "execution_count": 5,
   "metadata": {},
   "outputs": [
    {
     "name": "stdout",
     "output_type": "stream",
     "text": [
      "x_train.shape :  (120, 4)\n",
      "y_train.shape :  (120, 3)\n",
      "w.shape :  (4, 3)\n",
      "b.shape :  (1,)\n"
     ]
    }
   ],
   "source": [
    "print(\"x_train.shape : \",x_train.shape)\n",
    "print(\"y_train.shape : \",y_train.shape)\n",
    "print(\"w.shape : \",w.shape)\n",
    "print(\"b.shape : \",b.shape)"
   ]
  },
  {
   "cell_type": "code",
   "execution_count": 6,
   "metadata": {},
   "outputs": [
    {
     "name": "stdout",
     "output_type": "stream",
     "text": [
      "0/1000\n",
      "loss: 2.9254073339155906\n",
      "100/1000\n",
      "loss: 0.27152289154458137\n",
      "200/1000\n",
      "loss: 0.19466841142101735\n",
      "300/1000\n",
      "loss: 0.15911874181473357\n",
      "400/1000\n",
      "loss: 0.13852691035466977\n",
      "500/1000\n",
      "loss: 0.12499540308148202\n",
      "600/1000\n",
      "loss: 0.11535847838176115\n",
      "700/1000\n",
      "loss: 0.10810369878255068\n",
      "800/1000\n",
      "loss: 0.10241718920754533\n",
      "900/1000\n",
      "loss: 0.09782148462215015\n",
      "1000/1000\n",
      "loss: 0.09401748878290618\n"
     ]
    }
   ],
   "source": [
    "epochs = 1000\n",
    "learning_rate = 1e-3\n",
    "\n",
    "# Initialize weights and biases\n",
    "w = np.random.randn(x_train.shape[1], y_train.shape[1])\n",
    "b = np.zeros(y_train.shape[1])\n",
    "\n",
    "for i in range(epochs + 1):\n",
    "    h_x = x_train.dot(w) + b\n",
    "    y_pred = softmax_function(h_x)\n",
    "\n",
    "    loss = multi_classification_loss_function(y_train, y_pred)\n",
    "\n",
    "    derivative_cost_w = get_derivative_of_cost_w(y_train, y_pred, x_train)\n",
    "    derivative_cost_b = get_derivative_of_cost_b(y_train, y_pred)\n",
    "\n",
    "    if i % 100 == 0:\n",
    "        print(f\"{i}/{epochs}\")\n",
    "        print(f\"loss: {loss}\")\n",
    "\n",
    "    w = w - learning_rate * derivative_cost_w\n",
    "    b = b - learning_rate * derivative_cost_b"
   ]
  }
 ],
 "metadata": {
  "kernelspec": {
   "display_name": "torch",
   "language": "python",
   "name": "python3"
  },
  "language_info": {
   "codemirror_mode": {
    "name": "ipython",
    "version": 3
   },
   "file_extension": ".py",
   "mimetype": "text/x-python",
   "name": "python",
   "nbconvert_exporter": "python",
   "pygments_lexer": "ipython3",
   "version": "3.10.11"
  },
  "orig_nbformat": 4
 },
 "nbformat": 4,
 "nbformat_minor": 2
}
