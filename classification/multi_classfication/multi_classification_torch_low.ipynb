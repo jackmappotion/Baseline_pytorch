{
 "cells": [
  {
   "cell_type": "code",
   "execution_count": 80,
   "metadata": {},
   "outputs": [],
   "source": [
    "import numpy as np\n",
    "import pandas as pd\n",
    "\n",
    "from sklearn.model_selection import train_test_split\n",
    "from sklearn.preprocessing import StandardScaler\n",
    "\n",
    "import torch\n",
    "import torch.nn as nn\n",
    "import torch.nn.functional as F\n",
    "import torch.optim as optim\n",
    "\n",
    "import matplotlib.pyplot as plt"
   ]
  },
  {
   "cell_type": "code",
   "execution_count": 81,
   "metadata": {},
   "outputs": [],
   "source": [
    "df = pd.read_csv(\"../../data/multi_classification.csv\")\n",
    "\n",
    "x = df.iloc[:, :-1]\n",
    "y = pd.get_dummies(df.iloc[:, -1]).astype(int)\n",
    "\n",
    "x_ssc = StandardScaler()\n",
    "x_scaled = x_ssc.fit_transform(x)\n",
    "\n",
    "x_tensor = torch.tensor(x_scaled, dtype=torch.float32)\n",
    "y_tensor = torch.tensor(y.values, dtype=torch.float32)\n",
    "\n",
    "x_train, x_test, y_train, y_test = train_test_split(x_tensor, y_tensor, test_size=0.2, shuffle=True)"
   ]
  },
  {
   "cell_type": "code",
   "execution_count": 82,
   "metadata": {},
   "outputs": [],
   "source": [
    "x_shape = x_train.shape[-1]\n",
    "y_shape = y_train.shape[-1]\n",
    "\n",
    "w = torch.zeros(x_train.shape[1], y_train.shape[1], requires_grad=True)\n",
    "b = torch.zeros(y_train.shape[1], requires_grad=True)"
   ]
  },
  {
   "cell_type": "code",
   "execution_count": 83,
   "metadata": {},
   "outputs": [
    {
     "name": "stdout",
     "output_type": "stream",
     "text": [
      "x_train.shape :  torch.Size([120, 4])\n",
      "y_train.shape :  torch.Size([120, 3])\n",
      "w.shape :  torch.Size([4, 3])\n",
      "b.shape :  torch.Size([3])\n"
     ]
    }
   ],
   "source": [
    "print(\"x_train.shape : \",x_train.shape)\n",
    "print(\"y_train.shape : \",y_train.shape)\n",
    "print(\"w.shape : \",w.shape)\n",
    "print(\"b.shape : \",b.shape)"
   ]
  },
  {
   "cell_type": "code",
   "execution_count": 84,
   "metadata": {},
   "outputs": [
    {
     "name": "stdout",
     "output_type": "stream",
     "text": [
      "0/2000\n",
      "loss: 1.0986123085021973\n",
      "100/2000\n",
      "loss: 0.3339815139770508\n",
      "200/2000\n",
      "loss: 0.26610425114631653\n",
      "300/2000\n",
      "loss: 0.2264835387468338\n",
      "400/2000\n",
      "loss: 0.1996942162513733\n",
      "500/2000\n",
      "loss: 0.18034258484840393\n",
      "600/2000\n",
      "loss: 0.16570992767810822\n",
      "700/2000\n",
      "loss: 0.1542537361383438\n",
      "800/2000\n",
      "loss: 0.1450342983007431\n",
      "900/2000\n",
      "loss: 0.13744774460792542\n",
      "1000/2000\n",
      "loss: 0.1310890018939972\n",
      "1100/2000\n",
      "loss: 0.12567654252052307\n",
      "1200/2000\n",
      "loss: 0.12100887298583984\n",
      "1300/2000\n",
      "loss: 0.11693798750638962\n",
      "1400/2000\n",
      "loss: 0.11335276812314987\n",
      "1500/2000\n",
      "loss: 0.11016825586557388\n",
      "1600/2000\n",
      "loss: 0.10731831192970276\n",
      "1700/2000\n",
      "loss: 0.10475075989961624\n",
      "1800/2000\n",
      "loss: 0.10242381691932678\n",
      "1900/2000\n",
      "loss: 0.10030366480350494\n",
      "2000/2000\n",
      "loss: 0.09836255759000778\n"
     ]
    }
   ],
   "source": [
    "epochs = 2000\n",
    "learning_rate = 0.1\n",
    "optimizer = optim.SGD([w, b], lr=learning_rate)\n",
    "\n",
    "for i in range(epochs + 1):\n",
    "    h_x = x_train.matmul(w) + b\n",
    "    y_pred = F.softmax(h_x,dim=1)\n",
    "    \n",
    "    loss = -(y_train * torch.log(y_pred)).sum(dim=1).mean()\n",
    "    \n",
    "    optimizer.zero_grad()\n",
    "    loss.backward()\n",
    "    optimizer.step()\n",
    "\n",
    "    if i % 100 == 0:\n",
    "        print(f\"{i}/{epochs}\")\n",
    "        print(f\"loss: {loss}\")"
   ]
  },
  {
   "cell_type": "code",
   "execution_count": null,
   "metadata": {},
   "outputs": [],
   "source": []
  }
 ],
 "metadata": {
  "kernelspec": {
   "display_name": "torch",
   "language": "python",
   "name": "python3"
  },
  "language_info": {
   "codemirror_mode": {
    "name": "ipython",
    "version": 3
   },
   "file_extension": ".py",
   "mimetype": "text/x-python",
   "name": "python",
   "nbconvert_exporter": "python",
   "pygments_lexer": "ipython3",
   "version": "3.10.11"
  },
  "orig_nbformat": 4
 },
 "nbformat": 4,
 "nbformat_minor": 2
}
