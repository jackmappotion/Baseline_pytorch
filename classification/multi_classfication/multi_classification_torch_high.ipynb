{
 "cells": [
  {
   "cell_type": "code",
   "execution_count": 24,
   "metadata": {},
   "outputs": [],
   "source": [
    "import numpy as np\n",
    "import pandas as pd\n",
    "\n",
    "from sklearn.model_selection import train_test_split\n",
    "from sklearn.preprocessing import StandardScaler\n",
    "\n",
    "import torch\n",
    "import torch.nn as nn\n",
    "import torch.nn.functional as F\n",
    "import torch.optim as optim\n",
    "\n",
    "import matplotlib.pyplot as plt"
   ]
  },
  {
   "cell_type": "code",
   "execution_count": 25,
   "metadata": {},
   "outputs": [],
   "source": [
    "df = pd.read_csv(\"../../data/multi_classification.csv\")\n",
    "\n",
    "x = df.iloc[:, :-1]\n",
    "y = pd.get_dummies(df.iloc[:, -1]).astype(int)\n",
    "\n",
    "x_ssc = StandardScaler()\n",
    "x_scaled = x_ssc.fit_transform(x)\n",
    "\n",
    "x_tensor = torch.tensor(x_scaled, dtype=torch.float32)\n",
    "y_tensor = torch.tensor(y.values, dtype=torch.float32)\n",
    "\n",
    "x_train, x_test, y_train, y_test = train_test_split(x_tensor, y_tensor, test_size=0.2, shuffle=True)"
   ]
  },
  {
   "cell_type": "code",
   "execution_count": 26,
   "metadata": {},
   "outputs": [],
   "source": [
    "x_shape = x_train.shape[-1]\n",
    "y_shape = y_train.shape[-1]\n",
    "\n",
    "w = torch.zeros(x_train.shape[1], y_train.shape[1], requires_grad=True)\n",
    "b = torch.zeros(y_train.shape[1], requires_grad=True)"
   ]
  },
  {
   "cell_type": "code",
   "execution_count": 27,
   "metadata": {},
   "outputs": [
    {
     "name": "stdout",
     "output_type": "stream",
     "text": [
      "x_train.shape :  torch.Size([120, 4])\n",
      "y_train.shape :  torch.Size([120, 3])\n",
      "w.shape :  torch.Size([4, 3])\n",
      "b.shape :  torch.Size([3])\n"
     ]
    }
   ],
   "source": [
    "print(\"x_train.shape : \",x_train.shape)\n",
    "print(\"y_train.shape : \",y_train.shape)\n",
    "print(\"w.shape : \",w.shape)\n",
    "print(\"b.shape : \",b.shape)"
   ]
  },
  {
   "cell_type": "code",
   "execution_count": 13,
   "metadata": {},
   "outputs": [
    {
     "name": "stdout",
     "output_type": "stream",
     "text": [
      "0/2000\n",
      "loss: 1.0986123085021973\n",
      "100/2000\n",
      "loss: 0.323558509349823\n",
      "200/2000\n",
      "loss: 0.2562485933303833\n",
      "300/2000\n",
      "loss: 0.21618838608264923\n",
      "400/2000\n",
      "loss: 0.18866820633411407\n",
      "500/2000\n",
      "loss: 0.16858306527137756\n",
      "600/2000\n",
      "loss: 0.15329459309577942\n",
      "700/2000\n",
      "loss: 0.14127254486083984\n",
      "800/2000\n",
      "loss: 0.13156944513320923\n",
      "900/2000\n",
      "loss: 0.12356913834810257\n",
      "1000/2000\n",
      "loss: 0.11685452610254288\n",
      "1100/2000\n",
      "loss: 0.1111338660120964\n",
      "1200/2000\n",
      "loss: 0.10619721561670303\n",
      "1300/2000\n",
      "loss: 0.10188982635736465\n",
      "1400/2000\n",
      "loss: 0.0980951115489006\n",
      "1500/2000\n",
      "loss: 0.09472379833459854\n",
      "1600/2000\n",
      "loss: 0.09170624613761902\n",
      "1700/2000\n",
      "loss: 0.08898737281560898\n",
      "1800/2000\n",
      "loss: 0.08652308583259583\n",
      "1900/2000\n",
      "loss: 0.08427762985229492\n",
      "2000/2000\n",
      "loss: 0.08222173899412155\n"
     ]
    }
   ],
   "source": [
    "epochs = 2000\n",
    "learning_rate = 0.1\n",
    "optimizer = optim.SGD([w, b], lr=learning_rate)\n",
    "\n",
    "for i in range(epochs + 1):\n",
    "    h_x = x_train.matmul(w) + b\n",
    "    loss = F.cross_entropy(h_x, y_train)\n",
    "    \n",
    "    optimizer.zero_grad()\n",
    "    loss.backward()\n",
    "    optimizer.step()\n",
    "\n",
    "    if i % 100 == 0:\n",
    "        print(f\"{i}/{epochs}\")\n",
    "        print(f\"loss: {loss}\")"
   ]
  },
  {
   "cell_type": "code",
   "execution_count": null,
   "metadata": {},
   "outputs": [],
   "source": []
  }
 ],
 "metadata": {
  "kernelspec": {
   "display_name": "torch",
   "language": "python",
   "name": "python3"
  },
  "language_info": {
   "codemirror_mode": {
    "name": "ipython",
    "version": 3
   },
   "file_extension": ".py",
   "mimetype": "text/x-python",
   "name": "python",
   "nbconvert_exporter": "python",
   "pygments_lexer": "ipython3",
   "version": "3.10.11"
  },
  "orig_nbformat": 4
 },
 "nbformat": 4,
 "nbformat_minor": 2
}
