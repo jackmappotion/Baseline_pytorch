{
 "cells": [
  {
   "cell_type": "code",
   "execution_count": 24,
   "metadata": {},
   "outputs": [],
   "source": [
    "import pandas as pd\n",
    "\n",
    "from sklearn.model_selection import train_test_split\n",
    "from sklearn.preprocessing import StandardScaler\n",
    "from sklearn.metrics import accuracy_score\n",
    "\n",
    "import torch\n",
    "import torch.nn as nn\n",
    "import torch.nn.functional as F\n",
    "import torch.optim as optim\n",
    "\n",
    "import matplotlib.pyplot as plt"
   ]
  },
  {
   "cell_type": "code",
   "execution_count": 25,
   "metadata": {},
   "outputs": [],
   "source": [
    "df = pd.read_csv(\"../data/binary_classification.csv\")\n",
    "\n",
    "x = df.iloc[:, :-1]\n",
    "y = df.iloc[:, -1]\n",
    "\n",
    "x_ssc = StandardScaler()\n",
    "x_scaled = x_ssc.fit_transform(x)\n",
    "\n",
    "x_scaled_tensor = torch.tensor(x_scaled, dtype=torch.float32)\n",
    "y_tensor = torch.tensor(y, dtype=torch.float32)\n",
    "\n",
    "x_train, x_test, y_train, y_test = train_test_split(x_scaled_tensor, y_tensor, test_size=0.2, shuffle=True)\n",
    "\n",
    "x_shape = x_train.shape[-1]\n",
    "\n",
    "W = torch.zeros(x_shape, requires_grad=True)\n",
    "b = torch.zeros(1, requires_grad=True)"
   ]
  },
  {
   "cell_type": "code",
   "execution_count": 26,
   "metadata": {},
   "outputs": [
    {
     "name": "stdout",
     "output_type": "stream",
     "text": [
      "Epoch  100/2000 Loss: 0.086590\n",
      "Epoch  200/2000 Loss: 0.065231\n",
      "Epoch  300/2000 Loss: 0.055709\n",
      "Epoch  400/2000 Loss: 0.049976\n",
      "Epoch  500/2000 Loss: 0.046021\n",
      "Epoch  600/2000 Loss: 0.043073\n",
      "Epoch  700/2000 Loss: 0.040761\n",
      "Epoch  800/2000 Loss: 0.000000\n",
      "Epoch  900/2000 Loss: 0.000000\n",
      "Epoch 1000/2000 Loss: 0.000000\n",
      "Epoch 1100/2000 Loss: 0.000000\n",
      "Epoch 1200/2000 Loss: 0.000000\n",
      "Epoch 1300/2000 Loss: 0.000000\n",
      "Epoch 1400/2000 Loss: 0.000000\n",
      "Epoch 1500/2000 Loss: 0.000000\n",
      "Epoch 1600/2000 Loss: 0.000000\n",
      "Epoch 1700/2000 Loss: 0.000000\n",
      "Epoch 1800/2000 Loss: 0.000000\n",
      "Epoch 1900/2000 Loss: 0.000000\n"
     ]
    }
   ],
   "source": [
    "epochs = 2000\n",
    "\n",
    "optimizer = optim.SGD([W,b],lr=0.1)\n",
    "for epoch in range(1,epochs):\n",
    "    \n",
    "    h_x = x_train.matmul(W) + b\n",
    "    y_pred = torch.sigmoid(h_x)\n",
    "\n",
    "    loss = -(\n",
    "        y_train * torch.log(y_pred) +\n",
    "        (1-y_train) * torch.log(1-y_pred)\n",
    "    ).mean()\n",
    "\n",
    "    optimizer.zero_grad()\n",
    "    loss.backward()\n",
    "    optimizer.step()\n",
    "    loss = torch.nan_to_num(loss)\n",
    "    if epoch % 100 == 0:\n",
    "        print('Epoch {:4d}/{} Loss: {:.6f}'.format(\n",
    "            epoch, epochs, loss.item()\n",
    "        ))"
   ]
  },
  {
   "cell_type": "code",
   "execution_count": null,
   "metadata": {},
   "outputs": [],
   "source": []
  }
 ],
 "metadata": {
  "kernelspec": {
   "display_name": "torch",
   "language": "python",
   "name": "python3"
  },
  "language_info": {
   "codemirror_mode": {
    "name": "ipython",
    "version": 3
   },
   "file_extension": ".py",
   "mimetype": "text/x-python",
   "name": "python",
   "nbconvert_exporter": "python",
   "pygments_lexer": "ipython3",
   "version": "3.10.11"
  },
  "orig_nbformat": 4
 },
 "nbformat": 4,
 "nbformat_minor": 2
}
