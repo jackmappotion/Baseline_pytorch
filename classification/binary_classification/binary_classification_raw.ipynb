{
 "cells": [
  {
   "cell_type": "code",
   "execution_count": 41,
   "metadata": {},
   "outputs": [],
   "source": [
    "import pandas as pd\n",
    "\n",
    "from sklearn.model_selection import train_test_split\n",
    "from sklearn.preprocessing import StandardScaler\n",
    "from sklearn.metrics import accuracy_score\n",
    "\n",
    "import numpy as np\n",
    "import matplotlib.pyplot as plt"
   ]
  },
  {
   "cell_type": "code",
   "execution_count": 35,
   "metadata": {},
   "outputs": [],
   "source": [
    "df = pd.read_csv(\"../data/binary_classification.csv\")\n",
    "\n",
    "x = df.iloc[:, :-1]\n",
    "y = df.iloc[:, -1]\n",
    "\n",
    "x_ssc = StandardScaler()\n",
    "x_scaled = x_ssc.fit_transform(x)\n",
    "\n",
    "x_train, x_test, y_train, y_test = train_test_split(x_scaled, y.values, test_size=0.2, shuffle=True)"
   ]
  },
  {
   "cell_type": "code",
   "execution_count": 36,
   "metadata": {},
   "outputs": [],
   "source": [
    "def sigmoid_function(h_x):\n",
    "    return 1/(1+np.exp(-h_x))\n",
    "\n",
    "def binary_classification_loss_function(y_real, y_pred):\n",
    "    loss = (\n",
    "        -(y_real*np.log(y_pred) + (1-y_real)*np.log(1-y_pred))\n",
    "    ).mean()\n",
    "    return loss\n",
    "\n",
    "def get_derivative_of_cost_w(y_real, y_pred, x_real):\n",
    "    derivative_of_cost_w = -2 * (y_real - y_pred).dot(x_real)\n",
    "    return derivative_of_cost_w\n",
    "\n",
    "def get_derivative_of_cost_b(y_real, y_pred):\n",
    "    derivative_of_cost_b = -2 * (y_real - y_pred).sum()\n",
    "    return derivative_of_cost_b"
   ]
  },
  {
   "cell_type": "code",
   "execution_count": 37,
   "metadata": {},
   "outputs": [],
   "source": [
    "w = np.zeros(x.shape[-1])\n",
    "b = np.array([0])"
   ]
  },
  {
   "cell_type": "code",
   "execution_count": 38,
   "metadata": {},
   "outputs": [
    {
     "name": "stdout",
     "output_type": "stream",
     "text": [
      "x_train.shape :  (455, 30)\n",
      "y_train.shape :  (455,)\n",
      "w.shape :  (30,)\n",
      "b.shape :  (1,)\n"
     ]
    }
   ],
   "source": [
    "print(\"x_train.shape : \",x_train.shape)\n",
    "print(\"y_train.shape : \",y_train.shape)\n",
    "print(\"w.shape : \",w.shape)\n",
    "print(\"b.shape : \",b.shape)"
   ]
  },
  {
   "cell_type": "code",
   "execution_count": 39,
   "metadata": {},
   "outputs": [
    {
     "name": "stdout",
     "output_type": "stream",
     "text": [
      "0/100\n",
      "loss : 0.6931471805599453\n",
      "100/100\n",
      "loss : 0.2559114546067683\n",
      "200/100\n",
      "loss : 0.19111510262799947\n",
      "300/100\n",
      "loss : 0.16212875659270595\n",
      "400/100\n",
      "loss : 0.14511441603469005\n",
      "500/100\n",
      "loss : 0.1337171076481074\n",
      "600/100\n",
      "loss : 0.12544361483866232\n",
      "700/100\n",
      "loss : 0.11910291364689392\n",
      "800/100\n",
      "loss : 0.114050254806315\n",
      "900/100\n",
      "loss : 0.1099043275502473\n",
      "1000/100\n",
      "loss : 0.10642415114437508\n",
      "1100/100\n",
      "loss : 0.10344934868109625\n",
      "1200/100\n",
      "loss : 0.10086866950608615\n",
      "1300/100\n",
      "loss : 0.09860227477427252\n",
      "1400/100\n",
      "loss : 0.09659122188365524\n",
      "1500/100\n",
      "loss : 0.0947909393809886\n",
      "1600/100\n",
      "loss : 0.09316702361978195\n",
      "1700/100\n",
      "loss : 0.09169244287991525\n",
      "1800/100\n",
      "loss : 0.09034562532887931\n",
      "1900/100\n",
      "loss : 0.0891091192807536\n",
      "2000/100\n",
      "loss : 0.08796863412500426\n",
      "2100/100\n",
      "loss : 0.08691234055967648\n",
      "2200/100\n",
      "loss : 0.08593035124470584\n",
      "2300/100\n",
      "loss : 0.08501432940144235\n",
      "2400/100\n",
      "loss : 0.08415718971832972\n",
      "2500/100\n",
      "loss : 0.08335286689615465\n",
      "2600/100\n",
      "loss : 0.0825961344664665\n",
      "2700/100\n",
      "loss : 0.08188246146396641\n",
      "2800/100\n",
      "loss : 0.08120789794347114\n",
      "2900/100\n",
      "loss : 0.08056898271900934\n"
     ]
    }
   ],
   "source": [
    "learning_rate = 1e-5\n",
    "\n",
    "for i in range(3000):\n",
    "    h_x = x_train.dot(w) + b\n",
    "    y_pred = sigmoid_function(h_x)\n",
    "    \n",
    "    loss = binary_classification_loss_function(y_train, y_pred)\n",
    "\n",
    "    derivative_cost_w = get_derivative_of_cost_w(y_train,y_pred,x_train)\n",
    "    derivative_cost_b = get_derivative_of_cost_b(y_train, y_pred)\n",
    "\n",
    "    if i % 100 == 0:\n",
    "        print(f\"{i}/100\")\n",
    "        print(f\"loss : {loss}\")\n",
    "\n",
    "    w = w - learning_rate * derivative_cost_w\n",
    "    b = b - learning_rate * derivative_cost_b"
   ]
  },
  {
   "cell_type": "code",
   "execution_count": 40,
   "metadata": {},
   "outputs": [],
   "source": [
    "h_x = x_test.dot(w) + b\n",
    "y_pred = sigmoid_function(h_x)"
   ]
  },
  {
   "cell_type": "code",
   "execution_count": 46,
   "metadata": {},
   "outputs": [
    {
     "data": {
      "text/plain": [
       "0.9736842105263158"
      ]
     },
     "execution_count": 46,
     "metadata": {},
     "output_type": "execute_result"
    }
   ],
   "source": [
    "accuracy_score(y_pred > 0.5, y_test)"
   ]
  }
 ],
 "metadata": {
  "kernelspec": {
   "display_name": "torch",
   "language": "python",
   "name": "python3"
  },
  "language_info": {
   "codemirror_mode": {
    "name": "ipython",
    "version": 3
   },
   "file_extension": ".py",
   "mimetype": "text/x-python",
   "name": "python",
   "nbconvert_exporter": "python",
   "pygments_lexer": "ipython3",
   "version": "3.10.11"
  },
  "orig_nbformat": 4
 },
 "nbformat": 4,
 "nbformat_minor": 2
}
