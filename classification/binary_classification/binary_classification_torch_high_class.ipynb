{
 "cells": [
  {
   "cell_type": "code",
   "execution_count": 7,
   "metadata": {},
   "outputs": [],
   "source": [
    "import pandas as pd\n",
    "\n",
    "from sklearn.model_selection import train_test_split\n",
    "from sklearn.preprocessing import StandardScaler\n",
    "from sklearn.metrics import accuracy_score\n",
    "\n",
    "import torch\n",
    "import torch.nn as nn\n",
    "import torch.nn.functional as F\n",
    "import torch.optim as optim\n",
    "\n",
    "import matplotlib.pyplot as plt"
   ]
  },
  {
   "cell_type": "code",
   "execution_count": 8,
   "metadata": {},
   "outputs": [],
   "source": [
    "df = pd.read_csv(\"../data/binary_classification.csv\")\n",
    "\n",
    "x = df.iloc[:, :-1]\n",
    "y = df.iloc[:, -1]\n",
    "\n",
    "x_ssc = StandardScaler()\n",
    "x_scaled = x_ssc.fit_transform(x)\n",
    "\n",
    "x_scaled_tensor = torch.tensor(x_scaled, dtype=torch.float32)\n",
    "y_tensor = torch.tensor(y, dtype=torch.float32).reshape(-1,1)\n",
    "\n",
    "x_train, x_test, y_train, y_test = train_test_split(x_scaled_tensor, y_tensor, test_size=0.2, shuffle=True)"
   ]
  },
  {
   "cell_type": "code",
   "execution_count": 9,
   "metadata": {},
   "outputs": [],
   "source": [
    "class BinaryClassifier(nn.Module):\n",
    "    def __init__(self,input_size,output_size):\n",
    "        super().__init__()\n",
    "        self.linear = nn.Linear(input_size, output_size)\n",
    "        self.sigmoid = nn.Sigmoid()\n",
    "\n",
    "    def forward(self, x):\n",
    "        return self.sigmoid(self.linear(x))\n",
    "\n",
    "model = BinaryClassifier(30,1)"
   ]
  },
  {
   "cell_type": "code",
   "execution_count": 10,
   "metadata": {},
   "outputs": [
    {
     "name": "stdout",
     "output_type": "stream",
     "text": [
      "Epoch  100/2000 Loss: 0.256415\n",
      "Epoch  200/2000 Loss: 0.188091\n",
      "Epoch  300/2000 Loss: 0.157304\n",
      "Epoch  400/2000 Loss: 0.139199\n",
      "Epoch  500/2000 Loss: 0.127085\n",
      "Epoch  600/2000 Loss: 0.118303\n",
      "Epoch  700/2000 Loss: 0.111581\n",
      "Epoch  800/2000 Loss: 0.106231\n",
      "Epoch  900/2000 Loss: 0.101847\n",
      "Epoch 1000/2000 Loss: 0.098171\n",
      "Epoch 1100/2000 Loss: 0.095033\n",
      "Epoch 1200/2000 Loss: 0.092314\n",
      "Epoch 1300/2000 Loss: 0.089929\n",
      "Epoch 1400/2000 Loss: 0.087815\n",
      "Epoch 1500/2000 Loss: 0.085925\n",
      "Epoch 1600/2000 Loss: 0.084221\n",
      "Epoch 1700/2000 Loss: 0.082674\n",
      "Epoch 1800/2000 Loss: 0.081263\n",
      "Epoch 1900/2000 Loss: 0.079967\n"
     ]
    }
   ],
   "source": [
    "epochs = 2000\n",
    "optimizer=optim.SGD(model.parameters(),lr=1e-2)\n",
    "\n",
    "for epoch in range(1,epochs):\n",
    "    y_pred = model(x_train)\n",
    "\n",
    "    loss = F.binary_cross_entropy(y_pred, y_train)\n",
    "\n",
    "    optimizer.zero_grad()\n",
    "    loss.backward()\n",
    "    optimizer.step()\n",
    "    if epoch % 100 == 0:\n",
    "        print('Epoch {:4d}/{} Loss: {:.6f}'.format(\n",
    "            epoch, epochs, loss.item()\n",
    "        ))"
   ]
  }
 ],
 "metadata": {
  "kernelspec": {
   "display_name": "torch",
   "language": "python",
   "name": "python3"
  },
  "language_info": {
   "codemirror_mode": {
    "name": "ipython",
    "version": 3
   },
   "file_extension": ".py",
   "mimetype": "text/x-python",
   "name": "python",
   "nbconvert_exporter": "python",
   "pygments_lexer": "ipython3",
   "version": "3.10.11"
  },
  "orig_nbformat": 4
 },
 "nbformat": 4,
 "nbformat_minor": 2
}
