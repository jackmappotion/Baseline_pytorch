{
 "cells": [
  {
   "cell_type": "code",
   "execution_count": 49,
   "metadata": {},
   "outputs": [],
   "source": [
    "import matplotlib.pyplot as plt\n",
    "import random\n",
    "\n",
    "import pandas as pd\n",
    "from sklearn.model_selection import train_test_split\n",
    "from sklearn.preprocessing import StandardScaler\n",
    "from sklearn.metrics import accuracy_score\n",
    "\n",
    "import torch\n",
    "import torchvision.transforms as transforms\n",
    "from torch.utils.data import TensorDataset, DataLoader\n",
    "import torch.nn as nn"
   ]
  },
  {
   "cell_type": "code",
   "execution_count": 50,
   "metadata": {},
   "outputs": [],
   "source": [
    "df = pd.read_csv(\"../../data/image_classification.csv\")\n",
    "\n",
    "x = df.iloc[:, :-1]\n",
    "y = pd.get_dummies(df.iloc[:, -1]).astype(int)\n",
    "\n",
    "x_ssc = StandardScaler()\n",
    "x_scaled = x_ssc.fit_transform(x)\n",
    "\n",
    "x_tensor = torch.tensor(x_scaled,dtype=torch.float32)\n",
    "y_tensor = torch.tensor(y.values,dtype=torch.float32)\n",
    "\n",
    "x_train, x_test, y_train, y_test = train_test_split(x_tensor, y_tensor, test_size=0.2, shuffle=True)"
   ]
  },
  {
   "cell_type": "code",
   "execution_count": 51,
   "metadata": {},
   "outputs": [],
   "source": [
    "# USE_mps = torch.backends.mps.is_available() # GPU를 사용가능하면 True, 아니라면 False를 리턴\n",
    "\n",
    "# device = torch.device(\"mps\" if USE_mps else \"cpu\") # GPU 사용 가능하면 사용하고 아니면 CPU 사용\n",
    "# print(\"다음 기기로 학습합니다:\", device)"
   ]
  },
  {
   "cell_type": "code",
   "execution_count": 52,
   "metadata": {},
   "outputs": [],
   "source": [
    "# DataLoader 만들기\n",
    "# 1. tensor dataset 생성\n",
    "dataset = TensorDataset(x_train, y_train)\n",
    "\n",
    "# 2. DataLoader 에 적절한 batch_size와 함께 입력\n",
    "dataloader = DataLoader(\n",
    "    dataset=dataset,\n",
    "    batch_size=32,\n",
    "    shuffle=True,\n",
    "    drop_last=True\n",
    ")"
   ]
  },
  {
   "cell_type": "code",
   "execution_count": 57,
   "metadata": {},
   "outputs": [],
   "source": [
    "# model\n",
    "class Model(nn.Module):\n",
    "    def __init__(self, *args, **kwargs):\n",
    "        super().__init__(*args, **kwargs)\n",
    "        self.linear_1 = nn.Linear(64, 32)\n",
    "        self.linear_2 = nn.Linear(32, 16)\n",
    "        self.linear_3 = nn.Linear(16, 10)\n",
    "    \n",
    "    def forward(self, x):\n",
    "        x = self.linear_1(x)\n",
    "        x = self.linear_2(x)\n",
    "        x = self.linear_3(x)\n",
    "        return x"
   ]
  },
  {
   "cell_type": "code",
   "execution_count": 58,
   "metadata": {},
   "outputs": [],
   "source": [
    "model = Model()"
   ]
  },
  {
   "cell_type": "code",
   "execution_count": 59,
   "metadata": {},
   "outputs": [],
   "source": [
    "# 반복 설정\n",
    "epochs = 15\n",
    "# optimizer 설정\n",
    "optimizer = optim.SGD(model.parameters(),lr=0.1)\n",
    "# loss function 설정\n",
    "loss_fn = nn.CrossEntropyLoss()"
   ]
  },
  {
   "cell_type": "code",
   "execution_count": 60,
   "metadata": {},
   "outputs": [
    {
     "name": "stdout",
     "output_type": "stream",
     "text": [
      "0.65453040599823\n",
      "0.3157190680503845\n",
      "0.19617971777915955\n",
      "0.14538446068763733\n",
      "0.11710651963949203\n",
      "0.09824054688215256\n",
      "0.08432058990001678\n",
      "0.07349277287721634\n",
      "0.06482931971549988\n",
      "0.057754404842853546\n",
      "0.0518684946000576\n",
      "0.04688979312777519\n",
      "0.042618364095687866\n",
      "0.03891037404537201\n",
      "0.03566073626279831\n"
     ]
    }
   ],
   "source": [
    "for _ in range(epochs):\n",
    "    for X,Y in dataloader:\n",
    "        optimizer.zero_grad()\n",
    "        y_pred = model(x_train)\n",
    "        loss = loss_fn(y_pred,y_train)\n",
    "        \n",
    "        # 미분\n",
    "        loss.backward()\n",
    "        # parameter 미분값에 대해 수정\n",
    "        optimizer.step()\n",
    "    print(loss.item())"
   ]
  },
  {
   "cell_type": "code",
   "execution_count": 65,
   "metadata": {},
   "outputs": [
    {
     "data": {
      "text/plain": [
       "0.9694444444444444"
      ]
     },
     "execution_count": 65,
     "metadata": {},
     "output_type": "execute_result"
    }
   ],
   "source": [
    "accuracy_score(model(x_test).argmax(axis=1),y_test.argmax(axis=1))"
   ]
  },
  {
   "cell_type": "code",
   "execution_count": null,
   "metadata": {},
   "outputs": [],
   "source": []
  }
 ],
 "metadata": {
  "kernelspec": {
   "display_name": "torch",
   "language": "python",
   "name": "python3"
  },
  "language_info": {
   "codemirror_mode": {
    "name": "ipython",
    "version": 3
   },
   "file_extension": ".py",
   "mimetype": "text/x-python",
   "name": "python",
   "nbconvert_exporter": "python",
   "pygments_lexer": "ipython3",
   "version": "3.10.11"
  },
  "orig_nbformat": 4
 },
 "nbformat": 4,
 "nbformat_minor": 2
}
