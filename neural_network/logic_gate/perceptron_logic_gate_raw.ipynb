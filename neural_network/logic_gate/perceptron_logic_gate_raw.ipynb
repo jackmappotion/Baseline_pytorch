{
 "cells": [
  {
   "cell_type": "code",
   "execution_count": 7,
   "metadata": {},
   "outputs": [],
   "source": [
    "def AND_gate(x1,x2):\n",
    "    w1 = 0.5\n",
    "    w2 = 0.5\n",
    "    b = 0.7\n",
    "    \n",
    "    y = w1*x1 + w2*x2 - b\n",
    "    if y >= 0:\n",
    "        return 1\n",
    "    else:\n",
    "        return 0"
   ]
  },
  {
   "cell_type": "code",
   "execution_count": 8,
   "metadata": {},
   "outputs": [
    {
     "name": "stdout",
     "output_type": "stream",
     "text": [
      "AND_gate(1,1) :  1\n",
      "AND_gate(1,0) :  0\n",
      "AND_gate(0,1) :  0\n",
      "AND_gate(0,0) :  0\n"
     ]
    }
   ],
   "source": [
    "print(\"AND_gate(1,1) : \",AND_gate(1,1))\n",
    "print(\"AND_gate(1,0) : \",AND_gate(1,0))\n",
    "print(\"AND_gate(0,1) : \",AND_gate(0,1))\n",
    "print(\"AND_gate(0,0) : \",AND_gate(0,0))"
   ]
  },
  {
   "cell_type": "code",
   "execution_count": 19,
   "metadata": {},
   "outputs": [],
   "source": [
    "def NAND_gate(x1, x2):\n",
    "    w1 = -0.5\n",
    "    w2 = -0.5\n",
    "    b = 0.7\n",
    "\n",
    "    y = w1 * x1 + w2 * x2 + b\n",
    "    if y <= 0:\n",
    "        return 0\n",
    "    else:\n",
    "        return 1"
   ]
  },
  {
   "cell_type": "code",
   "execution_count": 20,
   "metadata": {},
   "outputs": [
    {
     "name": "stdout",
     "output_type": "stream",
     "text": [
      "NAND_gate(1,1) :  0\n",
      "NAND_gate(1,0) :  1\n",
      "NAND_gate(0,1) :  1\n",
      "NAND_gate(0,0) :  1\n"
     ]
    }
   ],
   "source": [
    "print(\"NAND_gate(1,1) : \",NAND_gate(1,1))\n",
    "print(\"NAND_gate(1,0) : \",NAND_gate(1,0))\n",
    "print(\"NAND_gate(0,1) : \",NAND_gate(0,1))\n",
    "print(\"NAND_gate(0,0) : \",NAND_gate(0,0))"
   ]
  },
  {
   "cell_type": "code",
   "execution_count": 24,
   "metadata": {},
   "outputs": [],
   "source": [
    "def OR_gate(x1,x2):\n",
    "    w1 = 0.5\n",
    "    w2 = 0.5\n",
    "    b = 0\n",
    "\n",
    "    y = w1*x1 + w2*x2 + b \n",
    "    if y > 0:\n",
    "        return 1\n",
    "    else:\n",
    "        return 0"
   ]
  },
  {
   "cell_type": "code",
   "execution_count": 25,
   "metadata": {},
   "outputs": [
    {
     "name": "stdout",
     "output_type": "stream",
     "text": [
      "OR_gate(1,1) :  1\n",
      "OR_gate(1,0) :  1\n",
      "OR_gate(0,1) :  1\n",
      "OR_gate(0,0) :  0\n"
     ]
    }
   ],
   "source": [
    "print(\"OR_gate(1,1) : \",OR_gate(1,1))\n",
    "print(\"OR_gate(1,0) : \",OR_gate(1,0))\n",
    "print(\"OR_gate(0,1) : \",OR_gate(0,1))\n",
    "print(\"OR_gate(0,0) : \",OR_gate(0,0))"
   ]
  },
  {
   "cell_type": "code",
   "execution_count": null,
   "metadata": {},
   "outputs": [],
   "source": [
    "\"\"\"\n",
    "y = \n",
    "    0 (w1*x1 + w2*x2 + b <= 0)\n",
    "    1 (w1*x1 + w2*x2 + b > 1)\n",
    "이런 형식으로 XOR_gate 구현 불가\n",
    "\"\"\""
   ]
  }
 ],
 "metadata": {
  "kernelspec": {
   "display_name": "torch",
   "language": "python",
   "name": "python3"
  },
  "language_info": {
   "codemirror_mode": {
    "name": "ipython",
    "version": 3
   },
   "file_extension": ".py",
   "mimetype": "text/x-python",
   "name": "python",
   "nbconvert_exporter": "python",
   "pygments_lexer": "ipython3",
   "version": "3.10.11"
  },
  "orig_nbformat": 4
 },
 "nbformat": 4,
 "nbformat_minor": 2
}
